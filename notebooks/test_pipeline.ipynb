{
 "cells": [
  {
   "cell_type": "code",
   "execution_count": 1,
   "metadata": {},
   "outputs": [
    {
     "name": "stderr",
     "output_type": "stream",
     "text": [
      "2024-06-01 21:24:41.853469: E external/local_xla/xla/stream_executor/cuda/cuda_dnn.cc:9373] Unable to register cuDNN factory: Attempting to register factory for plugin cuDNN when one has already been registered\n",
      "2024-06-01 21:24:41.853527: E external/local_xla/xla/stream_executor/cuda/cuda_fft.cc:607] Unable to register cuFFT factory: Attempting to register factory for plugin cuFFT when one has already been registered\n",
      "2024-06-01 21:24:41.854769: E external/local_xla/xla/stream_executor/cuda/cuda_blas.cc:1534] Unable to register cuBLAS factory: Attempting to register factory for plugin cuBLAS when one has already been registered\n",
      "2024-06-01 21:24:41.861075: I tensorflow/core/platform/cpu_feature_guard.cc:183] This TensorFlow binary is optimized to use available CPU instructions in performance-critical operations.\n",
      "To enable the following instructions: SSE3 SSE4.1 SSE4.2 AVX, in other operations, rebuild TensorFlow with the appropriate compiler flags.\n"
     ]
    }
   ],
   "source": [
    "import tensorflow as tf\n",
    "from tensorflow import keras\n",
    "import matplotlib.pyplot as plt\n",
    "import numpy as np\n",
    "import os, json\n",
    "%matplotlib inline"
   ]
  },
  {
   "cell_type": "code",
   "execution_count": 4,
   "metadata": {},
   "outputs": [],
   "source": [
    "from eyenav.jigsaw_training.data import build_data_pipeline\n",
    "from eyenav.jigsaw_training.data import randomize_permutation_patterns"
   ]
  },
  {
   "cell_type": "code",
   "execution_count": 6,
   "metadata": {},
   "outputs": [],
   "source": [
    "image_dirpath = '/home/trainer/dev/sonar/datasets/uatd/train/images'\n",
    "\n",
    "num_cells_x = 3\n",
    "num_cells_y = 3\n",
    "num_classes = 10\n",
    "\n",
    "num_puzzles = num_cells_x * num_cells_y\n",
    "puzzle_patterns = randomize_permutation_patterns(\n",
    "    num_puzzles,\n",
    "    num_patterns=num_classes\n",
    ")"
   ]
  },
  {
   "cell_type": "code",
   "execution_count": 7,
   "metadata": {},
   "outputs": [
    {
     "name": "stdout",
     "output_type": "stream",
     "text": [
      "Found 7600 files belonging to 1 classes.\n"
     ]
    }
   ],
   "source": [
    "pipe = build_data_pipeline(\n",
    "    image_dirpath,\n",
    "    puzzle_patterns=puzzle_patterns,\n",
    "    ncells_x=num_cells_x,\n",
    "    ncells_y=num_cells_y,\n",
    "    batch_size=1,\n",
    "    image_width=1024,\n",
    "    image_height=1024,\n",
    "    patch_height=192,\n",
    "    patch_width=192,\n",
    "    crop_range=(0.8, 3.0),\n",
    "    contrast_range=(.99, 1.),\n",
    "    brightness_delta=0.\n",
    ")"
   ]
  },
  {
   "cell_type": "code",
   "execution_count": 8,
   "metadata": {},
   "outputs": [],
   "source": [
    "npyiter = pipe.as_numpy_iterator()"
   ]
  },
  {
   "cell_type": "code",
   "execution_count": 9,
   "metadata": {},
   "outputs": [],
   "source": [
    "puzzled, label = next(npyiter)"
   ]
  },
  {
   "cell_type": "code",
   "execution_count": null,
   "metadata": {},
   "outputs": [],
   "source": []
  }
 ],
 "metadata": {
  "kernelspec": {
   "display_name": "Python 3",
   "language": "python",
   "name": "python3"
  },
  "language_info": {
   "codemirror_mode": {
    "name": "ipython",
    "version": 3
   },
   "file_extension": ".py",
   "mimetype": "text/x-python",
   "name": "python",
   "nbconvert_exporter": "python",
   "pygments_lexer": "ipython3",
   "version": "3.10.12"
  }
 },
 "nbformat": 4,
 "nbformat_minor": 2
}
